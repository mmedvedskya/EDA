{
  "cells": [
    {
      "cell_type": "markdown",
      "metadata": {
        "id": "ohfZJhHoGYRi"
      },
      "source": [
        "# Проект: Анализ данных об аниме\n",
        "Работу выполнили студенты БММ225:\n",
        "Худайбердиева Самина Шухратовна,\n",
        "Медведская Мария Олеговна,\n",
        "Нестерова Елизавета Кирилловна\n",
        "\n",
        "## Данные\n",
        "Для работы взяты данные из датасета \"anime-dataset-2023.csv\". Источник данных - https://www.kaggle.com/datasets/dbdmobile/myanimelist-dataset\n",
        "\n",
        "Тема: Анализ датасета аниме 2023 года для ознакомления с современными трендами в японской анимации и вкусами зрителей.\n",
        "\n",
        "## Описание признаков в данных\n",
        "\n",
        "- anime_id - уникальный идентификатор аниме.\n",
        "- Name - название аниме на английском языке.\n",
        "- English name - альтернативное название аниме на английском языке.\n",
        "- Other name - другие названия аниме, включая оригинальное название на японском.\n",
        "- Score - средний рейтинг аниме.\n",
        "- Genres - жанры аниме.\n",
        "- Synopsis - краткое описание сюжета аниме.\n",
        "- Type - тип аниме (TV, Movie и т.д.).\n",
        "- Episodes - количество эпизодов.\n",
        "- Aired - даты выхода аниме.\n",
        "- Premiered - сезон и год премьеры.\n",
        "- Producers - продюсеры аниме.\n",
        "- Licensors - лицензиаты аниме.\n",
        "- Studios - студии, которые создавали аниме.\n",
        "- Source - оригинальный источник (манга, лайт-новелла и т.д.).\n",
        "- Duration - продолжительность одного эпизода.\n",
        "- Rating - возрастной рейтинг аниме.\n",
        "- Rank - ранг аниме.\n",
        "- Popularity - популярность аниме.\n",
        "- Favorites - количество пользователей, добавивших аниме в избранное.\n",
        "- Scored By - количество пользователей, оценивших аниме.\n",
        "- Members - количество участников, добавивших аниме в свои списки.\n",
        "- Image URL - URL изображения обложки аниме."
      ]
    },
    {
      "cell_type": "markdown",
      "metadata": {
        "id": "Q4IDR39egwDz"
      },
      "source": [
        "### **Разведочный анализ данных, EDA**"
      ]
    },
    {
      "cell_type": "code",
      "execution_count": 29,
      "metadata": {
        "colab": {
          "base_uri": "https://localhost:8080/"
        },
        "id": "bf6Tx7rygLSI",
        "outputId": "34400e9f-fa66-4cec-f646-98e4a90a0b8f"
      },
      "outputs": [
        {
          "name": "stdout",
          "output_type": "stream",
          "text": [
            "<class 'pandas.core.frame.DataFrame'>\n",
            "RangeIndex: 24905 entries, 0 to 24904\n",
            "Data columns (total 24 columns):\n",
            " #   Column        Non-Null Count  Dtype \n",
            "---  ------        --------------  ----- \n",
            " 0   anime_id      24905 non-null  int64 \n",
            " 1   Name          24905 non-null  object\n",
            " 2   English name  24905 non-null  object\n",
            " 3   Other name    24905 non-null  object\n",
            " 4   Score         24905 non-null  object\n",
            " 5   Genres        24905 non-null  object\n",
            " 6   Synopsis      24905 non-null  object\n",
            " 7   Type          24905 non-null  object\n",
            " 8   Episodes      24905 non-null  object\n",
            " 9   Aired         24905 non-null  object\n",
            " 10  Premiered     24905 non-null  object\n",
            " 11  Status        24905 non-null  object\n",
            " 12  Producers     24905 non-null  object\n",
            " 13  Licensors     24905 non-null  object\n",
            " 14  Studios       24905 non-null  object\n",
            " 15  Source        24905 non-null  object\n",
            " 16  Duration      24905 non-null  object\n",
            " 17  Rating        24905 non-null  object\n",
            " 18  Rank          24905 non-null  object\n",
            " 19  Popularity    24905 non-null  int64 \n",
            " 20  Favorites     24905 non-null  int64 \n",
            " 21  Scored By     24905 non-null  object\n",
            " 22  Members       24905 non-null  int64 \n",
            " 23  Image URL     24905 non-null  object\n",
            "dtypes: int64(4), object(20)\n",
            "memory usage: 4.6+ MB\n"
          ]
        },
        {
          "data": {
            "text/plain": [
              "(24905, 24)"
            ]
          },
          "execution_count": 29,
          "metadata": {},
          "output_type": "execute_result"
        }
      ],
      "source": [
        "import pandas as pd\n",
        "import numpy as np\n",
        "import matplotlib.pyplot as plt\n",
        "import scipy.stats as stats\n",
        "\n",
        "df = pd.read_csv('anime-dataset-2023.csv', on_bad_lines=\"skip\", engine='python')\n",
        "df.info()\n",
        "# Изначально в нашем датасете переменные anime_id, Popularity, Favorites и Members\n",
        "# имеют целые значения (int64), остальные же используют текстовые или смешанные\n",
        "# числовые и нечисловые значения (object). Нет пропущенных значений.\n",
        "df.shape\n",
        "# В изначальном датасете 24905 строк и 24 столбца"
      ]
    },
    {
      "cell_type": "markdown",
      "metadata": {
        "id": "1gloM47shfvT"
      },
      "source": [
        "#### **Удаление выбросов**\n",
        "Производится заранее, так как в процессе меняются типы данных."
      ]
    },
    {
      "cell_type": "code",
      "execution_count": 30,
      "metadata": {
        "colab": {
          "base_uri": "https://localhost:8080/"
        },
        "id": "Gk3aQCzwQm_Z",
        "outputId": "b096306a-856c-49f0-914b-372a150d27df"
      },
      "outputs": [
        {
          "name": "stdout",
          "output_type": "stream",
          "text": [
            "Количественный признак и число выбросов по методу 1.5*IQR:\n",
            "{'Score': 68, 'Rank': 0, 'Popularity': 0, 'Favorites': 4489, 'Scored By': 2591, 'Members': 4297, 'Episodes': 2856}\n"
          ]
        }
      ],
      "source": [
        "# Список числовых столбцов для проверки выбросов\n",
        "numeric_columns = ['Score', 'Rank', 'Popularity', 'Favorites', 'Scored By', 'Members', 'Episodes']\n",
        "\n",
        "# Преобразование столбцов в числовой формат float64, пропуская \"UNKNOWN\"\n",
        "for column in numeric_columns:\n",
        "    df[column] = pd.to_numeric(df[column], errors='coerce')\n",
        "\n",
        "# Функция для определения количества выбросов методом 1.5*IQR\n",
        "def detect_outliers_iqr(data, column):\n",
        "    q1 = data[column].quantile(0.25)\n",
        "    q3 = data[column].quantile(0.75)\n",
        "    iqr = q3 - q1\n",
        "    lower = q1 - 1.5 * iqr\n",
        "    upper = q3 + 1.5 * iqr\n",
        "    return len(data[(data[column] < lower) | (data[column] > upper)])\n",
        "\n",
        "# Проверка выбросов в каждом количественном столбце и их количество\n",
        "# Записываем в словарь outliers_count, где ключом является название колонки,\n",
        "# а значением - число выбросов в данной колонке\n",
        "outliers_count = {column: detect_outliers_iqr(df, column) for column in numeric_columns}\n",
        "print(\"Количественный признак и число выбросов по методу 1.5*IQR:\")\n",
        "print(outliers_count)\n",
        "\n",
        "# Удаление выбросов из каждого столбца методом 1.5*IQR\n",
        "for column in numeric_columns:\n",
        "    q1 = df[column].quantile(0.25)\n",
        "    q3 = df[column].quantile(0.75)\n",
        "    iqr = q3 - q1\n",
        "    lower = q1 - 1.5 * iqr\n",
        "    upper = q3 + 1.5 * iqr\n",
        "    df = df[(df[column] >= lower) & (df[column] <= upper)]"
      ]
    },
    {
      "cell_type": "markdown",
      "metadata": {
        "id": "cZjkIvYPiImw"
      },
      "source": [
        "#### **Число строк и столбцов**"
      ]
    },
    {
      "cell_type": "code",
      "execution_count": 31,
      "metadata": {
        "colab": {
          "base_uri": "https://localhost:8080/"
        },
        "id": "qFHy6SFaWfbo",
        "outputId": "fdecc6d6-e571-4c25-c50a-e52ee8902be5"
      },
      "outputs": [
        {
          "data": {
            "text/plain": [
              "(7305, 24)"
            ]
          },
          "execution_count": 31,
          "metadata": {},
          "output_type": "execute_result"
        }
      ],
      "source": [
        "df.shape # с помощью атрибута .shape узнали, сколько в датасете строк (7305) и столбцов (24) после удаления выбросов"
      ]
    },
    {
      "cell_type": "markdown",
      "metadata": {
        "id": "OrsDiXUliYzY"
      },
      "source": [
        "#### **Типы данных**"
      ]
    },
    {
      "cell_type": "code",
      "execution_count": 32,
      "metadata": {
        "colab": {
          "base_uri": "https://localhost:8080/"
        },
        "id": "PtgXHrinWoom",
        "outputId": "5746b61f-3fb2-4290-b7f3-a81e7d7a2338"
      },
      "outputs": [
        {
          "data": {
            "text/plain": [
              "anime_id          int64\n",
              "Name             object\n",
              "English name     object\n",
              "Other name       object\n",
              "Score           float64\n",
              "Genres           object\n",
              "Synopsis         object\n",
              "Type             object\n",
              "Episodes        float64\n",
              "Aired            object\n",
              "Premiered        object\n",
              "Status           object\n",
              "Producers        object\n",
              "Licensors        object\n",
              "Studios          object\n",
              "Source           object\n",
              "Duration         object\n",
              "Rating           object\n",
              "Rank            float64\n",
              "Popularity        int64\n",
              "Favorites         int64\n",
              "Scored By       float64\n",
              "Members           int64\n",
              "Image URL        object\n",
              "dtype: object"
            ]
          },
          "execution_count": 32,
          "metadata": {},
          "output_type": "execute_result"
        }
      ],
      "source": [
        "df.dtypes # определили тип данных с помощью объекта dtypes\n",
        "# в нашем датасете переменные anime_id, Popularity, Favorites и Members имеют целые значения (int64),\n",
        "# переменные Score, Episodes, Rank и Scored By имеют целые значения (float64),\n",
        "# остальные же используют текстовые или смешанные числовые и нечисловые значения (object)"
      ]
    },
    {
      "cell_type": "markdown",
      "metadata": {
        "id": "zHFV1sddXJnv"
      },
      "source": [
        "Непрерывный тип данных: Score\n",
        "- относятся к количественному типу, где данные выражаются числами, их также можно сравнивать между собой\n",
        "- могут принимать абсолютно любое значение из какого-то интервала\n",
        "- для таких переменных можно рассчитать среднее арифметическое, и медиану, и моду, которую лучше искать для сгруппированных значений\n",
        "\n",
        "Дискретный тип данных: Favorites, Popularity, anime_id, Members, Scored By, Episodes, Rank\n",
        "- относятся к количественному типу, где данные выражаются числами, их также можно сравнивать между собой\n",
        "- измеряются определенным, счетным набором данных, то есть количество возможных значений может быть ограничено\n",
        "- для таких переменных можно рассчитать моду, предпочтительней именно для представления переменных\n",
        "\n",
        "Порядковый тип данных: Rating\n",
        "- относятся к категориальным (качественным) данным  \n",
        "- такие данные можно упорядочить\n",
        "- для таких переменных можно рассчитать медиану и моду\n",
        "\n",
        "Номинальный тип данных: Aired, Premiered, Duration, Name, English name, Other name, Genres, Synopsis, Type, Studios, Source, Image URL, Licensors, Status, Producers\n",
        "- относятся к категориальным (качественным) данным\n",
        "- номинальные значения мы можем закодировать числами\n",
        "- для таких переменных мода является единственной мерой центральной тенденции, которую можно вычислить"
      ]
    },
    {
      "cell_type": "markdown",
      "metadata": {
        "id": "P2Z5lj9JjVlt"
      },
      "source": [
        "#### **Пропуски**"
      ]
    },
    {
      "cell_type": "code",
      "execution_count": 33,
      "metadata": {
        "colab": {
          "base_uri": "https://localhost:8080/"
        },
        "id": "UcCMjVYZXDCe",
        "outputId": "47214039-efc1-4d65-ab87-eef96cbe79e9"
      },
      "outputs": [
        {
          "data": {
            "text/html": [
              "<div>\n",
              "<style scoped>\n",
              "    .dataframe tbody tr th:only-of-type {\n",
              "        vertical-align: middle;\n",
              "    }\n",
              "\n",
              "    .dataframe tbody tr th {\n",
              "        vertical-align: top;\n",
              "    }\n",
              "\n",
              "    .dataframe thead th {\n",
              "        text-align: right;\n",
              "    }\n",
              "</style>\n",
              "<table border=\"1\" class=\"dataframe\">\n",
              "  <thead>\n",
              "    <tr style=\"text-align: right;\">\n",
              "      <th></th>\n",
              "      <th>anime_id</th>\n",
              "      <th>Name</th>\n",
              "      <th>English name</th>\n",
              "      <th>Other name</th>\n",
              "      <th>Score</th>\n",
              "      <th>Genres</th>\n",
              "      <th>Synopsis</th>\n",
              "      <th>Type</th>\n",
              "      <th>Episodes</th>\n",
              "      <th>Aired</th>\n",
              "      <th>...</th>\n",
              "      <th>Studios</th>\n",
              "      <th>Source</th>\n",
              "      <th>Duration</th>\n",
              "      <th>Rating</th>\n",
              "      <th>Rank</th>\n",
              "      <th>Popularity</th>\n",
              "      <th>Favorites</th>\n",
              "      <th>Scored By</th>\n",
              "      <th>Members</th>\n",
              "      <th>Image URL</th>\n",
              "    </tr>\n",
              "  </thead>\n",
              "  <tbody>\n",
              "    <tr>\n",
              "      <th>13</th>\n",
              "      <td>23</td>\n",
              "      <td>Ring ni Kakero 1</td>\n",
              "      <td>UNKNOWN</td>\n",
              "      <td>リングにかけろ１</td>\n",
              "      <td>6.39</td>\n",
              "      <td>Action, Sports</td>\n",
              "      <td>In order to fulfill their dead father's wish, ...</td>\n",
              "      <td>TV</td>\n",
              "      <td>12.0</td>\n",
              "      <td>Oct 6, 2004 to Dec 15, 2004</td>\n",
              "      <td>...</td>\n",
              "      <td>Toei Animation</td>\n",
              "      <td>Manga</td>\n",
              "      <td>25 min per ep</td>\n",
              "      <td>PG - Children</td>\n",
              "      <td>6943.0</td>\n",
              "      <td>8288</td>\n",
              "      <td>6</td>\n",
              "      <td>1378.0</td>\n",
              "      <td>4581</td>\n",
              "      <td>https://cdn.myanimelist.net/images/anime/1146/...</td>\n",
              "    </tr>\n",
              "    <tr>\n",
              "      <th>36</th>\n",
              "      <td>55</td>\n",
              "      <td>Arc the Lad</td>\n",
              "      <td>UNKNOWN</td>\n",
              "      <td>アークザラッド</td>\n",
              "      <td>6.51</td>\n",
              "      <td>Action, Adventure, Fantasy, Horror, Sci-Fi</td>\n",
              "      <td>The story follows Elk, a bounty hunter in some...</td>\n",
              "      <td>TV</td>\n",
              "      <td>26.0</td>\n",
              "      <td>Apr 5, 1999 to Oct 11, 1999</td>\n",
              "      <td>...</td>\n",
              "      <td>Bee Train</td>\n",
              "      <td>Game</td>\n",
              "      <td>22 min per ep</td>\n",
              "      <td>R - 17+ (violence &amp; profanity)</td>\n",
              "      <td>6294.0</td>\n",
              "      <td>5012</td>\n",
              "      <td>14</td>\n",
              "      <td>5911.0</td>\n",
              "      <td>16013</td>\n",
              "      <td>https://cdn.myanimelist.net/images/anime/3/490...</td>\n",
              "    </tr>\n",
              "    <tr>\n",
              "      <th>37</th>\n",
              "      <td>56</td>\n",
              "      <td>Avenger</td>\n",
              "      <td>UNKNOWN</td>\n",
              "      <td>アヴェンジャー</td>\n",
              "      <td>5.86</td>\n",
              "      <td>Adventure, Fantasy, Sci-Fi</td>\n",
              "      <td>Mars has been colonized and is a world where c...</td>\n",
              "      <td>TV</td>\n",
              "      <td>13.0</td>\n",
              "      <td>Oct 2, 2003 to Dec 25, 2003</td>\n",
              "      <td>...</td>\n",
              "      <td>Bee Train</td>\n",
              "      <td>Original</td>\n",
              "      <td>24 min per ep</td>\n",
              "      <td>R - 17+ (violence &amp; profanity)</td>\n",
              "      <td>9454.0</td>\n",
              "      <td>4856</td>\n",
              "      <td>20</td>\n",
              "      <td>6788.0</td>\n",
              "      <td>17396</td>\n",
              "      <td>https://cdn.myanimelist.net/images/anime/13/19...</td>\n",
              "    </tr>\n",
              "    <tr>\n",
              "      <th>50</th>\n",
              "      <td>69</td>\n",
              "      <td>Cluster Edge</td>\n",
              "      <td>UNKNOWN</td>\n",
              "      <td>CLUSTER EDGE（クラスターエッジ）</td>\n",
              "      <td>6.31</td>\n",
              "      <td>Action, Fantasy, Sci-Fi</td>\n",
              "      <td>Cluster Edge Academy isn't just any school; it...</td>\n",
              "      <td>TV</td>\n",
              "      <td>25.0</td>\n",
              "      <td>Oct 5, 2005 to Mar 29, 2006</td>\n",
              "      <td>...</td>\n",
              "      <td>Sunrise</td>\n",
              "      <td>Original</td>\n",
              "      <td>24 min per ep</td>\n",
              "      <td>PG-13 - Teens 13 or older</td>\n",
              "      <td>7357.0</td>\n",
              "      <td>5917</td>\n",
              "      <td>13</td>\n",
              "      <td>2996.0</td>\n",
              "      <td>10561</td>\n",
              "      <td>https://cdn.myanimelist.net/images/anime/1980/...</td>\n",
              "    </tr>\n",
              "    <tr>\n",
              "      <th>62</th>\n",
              "      <td>83</td>\n",
              "      <td>Kidou Senshi Gundam: Dai 08 MS Shoutai - Mille...</td>\n",
              "      <td>Mobile Suit Gundam: The 08th MS Team - Miller'...</td>\n",
              "      <td>機動戦士ガンダム 第08MS小隊 ミラーズ・リポート</td>\n",
              "      <td>6.76</td>\n",
              "      <td>Drama, Romance, Sci-Fi</td>\n",
              "      <td>Shortly after being rescued off the Himalayas,...</td>\n",
              "      <td>Movie</td>\n",
              "      <td>1.0</td>\n",
              "      <td>Aug 1, 1998</td>\n",
              "      <td>...</td>\n",
              "      <td>Sunrise</td>\n",
              "      <td>Original</td>\n",
              "      <td>52 min</td>\n",
              "      <td>PG-13 - Teens 13 or older</td>\n",
              "      <td>5014.0</td>\n",
              "      <td>5384</td>\n",
              "      <td>3</td>\n",
              "      <td>6621.0</td>\n",
              "      <td>13284</td>\n",
              "      <td>https://cdn.myanimelist.net/images/anime/1132/...</td>\n",
              "    </tr>\n",
              "    <tr>\n",
              "      <th>...</th>\n",
              "      <td>...</td>\n",
              "      <td>...</td>\n",
              "      <td>...</td>\n",
              "      <td>...</td>\n",
              "      <td>...</td>\n",
              "      <td>...</td>\n",
              "      <td>...</td>\n",
              "      <td>...</td>\n",
              "      <td>...</td>\n",
              "      <td>...</td>\n",
              "      <td>...</td>\n",
              "      <td>...</td>\n",
              "      <td>...</td>\n",
              "      <td>...</td>\n",
              "      <td>...</td>\n",
              "      <td>...</td>\n",
              "      <td>...</td>\n",
              "      <td>...</td>\n",
              "      <td>...</td>\n",
              "      <td>...</td>\n",
              "      <td>...</td>\n",
              "    </tr>\n",
              "    <tr>\n",
              "      <th>24557</th>\n",
              "      <td>55315</td>\n",
              "      <td>Gensou Mangekyou: The Memories of Phantasm</td>\n",
              "      <td>Touhou Fantasy Kaleidoscope: The Memories of P...</td>\n",
              "      <td>幻想万華鏡 ~The Memories Of Phantasm~</td>\n",
              "      <td>7.78</td>\n",
              "      <td>Fantasy</td>\n",
              "      <td>Marisa, an ordinary magician, suspects a youka...</td>\n",
              "      <td>OVA</td>\n",
              "      <td>18.0</td>\n",
              "      <td>Aug 12, 2011 to May 7, 2023</td>\n",
              "      <td>...</td>\n",
              "      <td>UNKNOWN</td>\n",
              "      <td>Game</td>\n",
              "      <td>16 min per ep</td>\n",
              "      <td>PG-13 - Teens 13 or older</td>\n",
              "      <td>963.0</td>\n",
              "      <td>9993</td>\n",
              "      <td>68</td>\n",
              "      <td>662.0</td>\n",
              "      <td>2492</td>\n",
              "      <td>https://cdn.myanimelist.net/images/anime/1729/...</td>\n",
              "    </tr>\n",
              "    <tr>\n",
              "      <th>24579</th>\n",
              "      <td>55339</td>\n",
              "      <td>Mashle: Mash Burnedead to Fushigi na Tegami</td>\n",
              "      <td>Mashle: Magic and Muscles - Mash Burnedead and...</td>\n",
              "      <td>マッシュル-MASHLE- マッシュ・バーンデッドと不思議な手紙</td>\n",
              "      <td>5.84</td>\n",
              "      <td>Action, Comedy, Fantasy</td>\n",
              "      <td>Recap of the first six episodes of Mashle.</td>\n",
              "      <td>Special</td>\n",
              "      <td>1.0</td>\n",
              "      <td>May 20, 2023</td>\n",
              "      <td>...</td>\n",
              "      <td>A-1 Pictures</td>\n",
              "      <td>Manga</td>\n",
              "      <td>23 min</td>\n",
              "      <td>PG-13 - Teens 13 or older</td>\n",
              "      <td>9552.0</td>\n",
              "      <td>8772</td>\n",
              "      <td>10</td>\n",
              "      <td>1971.0</td>\n",
              "      <td>3828</td>\n",
              "      <td>https://cdn.myanimelist.net/images/anime/1097/...</td>\n",
              "    </tr>\n",
              "    <tr>\n",
              "      <th>24590</th>\n",
              "      <td>55355</td>\n",
              "      <td>Li Shi Zhentan Shiwusuo: A Day in Lungmen - Ho...</td>\n",
              "      <td>Lee's Detective Agency: A Day in Lungmen - Hom...</td>\n",
              "      <td>《鲤氏侦探事务所》迷你剧先行短片 - Home Service</td>\n",
              "      <td>5.99</td>\n",
              "      <td>Action, Comedy, Mystery</td>\n",
              "      <td>Infiltrating, disguising, and raiding. Tonight...</td>\n",
              "      <td>ONA</td>\n",
              "      <td>1.0</td>\n",
              "      <td>Oct 24, 2021</td>\n",
              "      <td>...</td>\n",
              "      <td>HMCH, Gravity Well</td>\n",
              "      <td>Game</td>\n",
              "      <td>3 min</td>\n",
              "      <td>PG-13 - Teens 13 or older</td>\n",
              "      <td>8891.0</td>\n",
              "      <td>14796</td>\n",
              "      <td>1</td>\n",
              "      <td>129.0</td>\n",
              "      <td>518</td>\n",
              "      <td>https://cdn.myanimelist.net/images/anime/1865/...</td>\n",
              "    </tr>\n",
              "    <tr>\n",
              "      <th>24729</th>\n",
              "      <td>55517</td>\n",
              "      <td>The IDOLM@STER Cinderella Girls: U149 Recap</td>\n",
              "      <td>UNKNOWN</td>\n",
              "      <td>アイドルマスター シンデレラガールズ U149</td>\n",
              "      <td>6.07</td>\n",
              "      <td>UNKNOWN</td>\n",
              "      <td>Recap of the first seven episodes of The IDOLM...</td>\n",
              "      <td>Special</td>\n",
              "      <td>1.0</td>\n",
              "      <td>May 25, 2023</td>\n",
              "      <td>...</td>\n",
              "      <td>CygamesPictures</td>\n",
              "      <td>Web manga</td>\n",
              "      <td>23 min</td>\n",
              "      <td>PG-13 - Teens 13 or older</td>\n",
              "      <td>8521.0</td>\n",
              "      <td>15097</td>\n",
              "      <td>1</td>\n",
              "      <td>114.0</td>\n",
              "      <td>482</td>\n",
              "      <td>https://cdn.myanimelist.net/images/anime/1597/...</td>\n",
              "    </tr>\n",
              "    <tr>\n",
              "      <th>24831</th>\n",
              "      <td>55647</td>\n",
              "      <td>One Piece: Dai Gekisen Tokushuu! Hangeki Doume...</td>\n",
              "      <td>One Piece: Recapping Fierce Fights! The Counte...</td>\n",
              "      <td>大激戦特集！反撃同盟VSビッグ・マム</td>\n",
              "      <td>6.29</td>\n",
              "      <td>Action, Adventure, Comedy, Fantasy</td>\n",
              "      <td>This is the 8th recap special of the Wano arc.</td>\n",
              "      <td>Special</td>\n",
              "      <td>1.0</td>\n",
              "      <td>Jun 18, 2023</td>\n",
              "      <td>...</td>\n",
              "      <td>UNKNOWN</td>\n",
              "      <td>Manga</td>\n",
              "      <td>24 min</td>\n",
              "      <td>PG-13 - Teens 13 or older</td>\n",
              "      <td>7480.0</td>\n",
              "      <td>14291</td>\n",
              "      <td>1</td>\n",
              "      <td>320.0</td>\n",
              "      <td>593</td>\n",
              "      <td>https://cdn.myanimelist.net/images/anime/1981/...</td>\n",
              "    </tr>\n",
              "  </tbody>\n",
              "</table>\n",
              "<p>7305 rows × 24 columns</p>\n",
              "</div>"
            ],
            "text/plain": [
              "       anime_id                                               Name  \\\n",
              "13           23                                   Ring ni Kakero 1   \n",
              "36           55                                        Arc the Lad   \n",
              "37           56                                            Avenger   \n",
              "50           69                                       Cluster Edge   \n",
              "62           83  Kidou Senshi Gundam: Dai 08 MS Shoutai - Mille...   \n",
              "...         ...                                                ...   \n",
              "24557     55315         Gensou Mangekyou: The Memories of Phantasm   \n",
              "24579     55339        Mashle: Mash Burnedead to Fushigi na Tegami   \n",
              "24590     55355  Li Shi Zhentan Shiwusuo: A Day in Lungmen - Ho...   \n",
              "24729     55517        The IDOLM@STER Cinderella Girls: U149 Recap   \n",
              "24831     55647  One Piece: Dai Gekisen Tokushuu! Hangeki Doume...   \n",
              "\n",
              "                                            English name  \\\n",
              "13                                               UNKNOWN   \n",
              "36                                               UNKNOWN   \n",
              "37                                               UNKNOWN   \n",
              "50                                               UNKNOWN   \n",
              "62     Mobile Suit Gundam: The 08th MS Team - Miller'...   \n",
              "...                                                  ...   \n",
              "24557  Touhou Fantasy Kaleidoscope: The Memories of P...   \n",
              "24579  Mashle: Magic and Muscles - Mash Burnedead and...   \n",
              "24590  Lee's Detective Agency: A Day in Lungmen - Hom...   \n",
              "24729                                            UNKNOWN   \n",
              "24831  One Piece: Recapping Fierce Fights! The Counte...   \n",
              "\n",
              "                             Other name  Score  \\\n",
              "13                             リングにかけろ１   6.39   \n",
              "36                              アークザラッド   6.51   \n",
              "37                              アヴェンジャー   5.86   \n",
              "50               CLUSTER EDGE（クラスターエッジ）   6.31   \n",
              "62           機動戦士ガンダム 第08MS小隊 ミラーズ・リポート   6.76   \n",
              "...                                 ...    ...   \n",
              "24557  幻想万華鏡 ~The Memories Of Phantasm~   7.78   \n",
              "24579  マッシュル-MASHLE- マッシュ・バーンデッドと不思議な手紙   5.84   \n",
              "24590   《鲤氏侦探事务所》迷你剧先行短片 - Home Service   5.99   \n",
              "24729           アイドルマスター シンデレラガールズ U149   6.07   \n",
              "24831                大激戦特集！反撃同盟VSビッグ・マム   6.29   \n",
              "\n",
              "                                           Genres  \\\n",
              "13                                 Action, Sports   \n",
              "36     Action, Adventure, Fantasy, Horror, Sci-Fi   \n",
              "37                     Adventure, Fantasy, Sci-Fi   \n",
              "50                        Action, Fantasy, Sci-Fi   \n",
              "62                         Drama, Romance, Sci-Fi   \n",
              "...                                           ...   \n",
              "24557                                     Fantasy   \n",
              "24579                     Action, Comedy, Fantasy   \n",
              "24590                     Action, Comedy, Mystery   \n",
              "24729                                     UNKNOWN   \n",
              "24831          Action, Adventure, Comedy, Fantasy   \n",
              "\n",
              "                                                Synopsis     Type  Episodes  \\\n",
              "13     In order to fulfill their dead father's wish, ...       TV      12.0   \n",
              "36     The story follows Elk, a bounty hunter in some...       TV      26.0   \n",
              "37     Mars has been colonized and is a world where c...       TV      13.0   \n",
              "50     Cluster Edge Academy isn't just any school; it...       TV      25.0   \n",
              "62     Shortly after being rescued off the Himalayas,...    Movie       1.0   \n",
              "...                                                  ...      ...       ...   \n",
              "24557  Marisa, an ordinary magician, suspects a youka...      OVA      18.0   \n",
              "24579         Recap of the first six episodes of Mashle.  Special       1.0   \n",
              "24590  Infiltrating, disguising, and raiding. Tonight...      ONA       1.0   \n",
              "24729  Recap of the first seven episodes of The IDOLM...  Special       1.0   \n",
              "24831     This is the 8th recap special of the Wano arc.  Special       1.0   \n",
              "\n",
              "                             Aired  ...             Studios     Source  \\\n",
              "13     Oct 6, 2004 to Dec 15, 2004  ...      Toei Animation      Manga   \n",
              "36     Apr 5, 1999 to Oct 11, 1999  ...           Bee Train       Game   \n",
              "37     Oct 2, 2003 to Dec 25, 2003  ...           Bee Train   Original   \n",
              "50     Oct 5, 2005 to Mar 29, 2006  ...             Sunrise   Original   \n",
              "62                     Aug 1, 1998  ...             Sunrise   Original   \n",
              "...                            ...  ...                 ...        ...   \n",
              "24557  Aug 12, 2011 to May 7, 2023  ...             UNKNOWN       Game   \n",
              "24579                 May 20, 2023  ...        A-1 Pictures      Manga   \n",
              "24590                 Oct 24, 2021  ...  HMCH, Gravity Well       Game   \n",
              "24729                 May 25, 2023  ...     CygamesPictures  Web manga   \n",
              "24831                 Jun 18, 2023  ...             UNKNOWN      Manga   \n",
              "\n",
              "            Duration                          Rating    Rank Popularity  \\\n",
              "13     25 min per ep                   PG - Children  6943.0       8288   \n",
              "36     22 min per ep  R - 17+ (violence & profanity)  6294.0       5012   \n",
              "37     24 min per ep  R - 17+ (violence & profanity)  9454.0       4856   \n",
              "50     24 min per ep       PG-13 - Teens 13 or older  7357.0       5917   \n",
              "62            52 min       PG-13 - Teens 13 or older  5014.0       5384   \n",
              "...              ...                             ...     ...        ...   \n",
              "24557  16 min per ep       PG-13 - Teens 13 or older   963.0       9993   \n",
              "24579         23 min       PG-13 - Teens 13 or older  9552.0       8772   \n",
              "24590          3 min       PG-13 - Teens 13 or older  8891.0      14796   \n",
              "24729         23 min       PG-13 - Teens 13 or older  8521.0      15097   \n",
              "24831         24 min       PG-13 - Teens 13 or older  7480.0      14291   \n",
              "\n",
              "      Favorites Scored By  Members  \\\n",
              "13            6    1378.0     4581   \n",
              "36           14    5911.0    16013   \n",
              "37           20    6788.0    17396   \n",
              "50           13    2996.0    10561   \n",
              "62            3    6621.0    13284   \n",
              "...         ...       ...      ...   \n",
              "24557        68     662.0     2492   \n",
              "24579        10    1971.0     3828   \n",
              "24590         1     129.0      518   \n",
              "24729         1     114.0      482   \n",
              "24831         1     320.0      593   \n",
              "\n",
              "                                               Image URL  \n",
              "13     https://cdn.myanimelist.net/images/anime/1146/...  \n",
              "36     https://cdn.myanimelist.net/images/anime/3/490...  \n",
              "37     https://cdn.myanimelist.net/images/anime/13/19...  \n",
              "50     https://cdn.myanimelist.net/images/anime/1980/...  \n",
              "62     https://cdn.myanimelist.net/images/anime/1132/...  \n",
              "...                                                  ...  \n",
              "24557  https://cdn.myanimelist.net/images/anime/1729/...  \n",
              "24579  https://cdn.myanimelist.net/images/anime/1097/...  \n",
              "24590  https://cdn.myanimelist.net/images/anime/1865/...  \n",
              "24729  https://cdn.myanimelist.net/images/anime/1597/...  \n",
              "24831  https://cdn.myanimelist.net/images/anime/1981/...  \n",
              "\n",
              "[7305 rows x 24 columns]"
            ]
          },
          "execution_count": 33,
          "metadata": {},
          "output_type": "execute_result"
        }
      ],
      "source": [
        "df.isna().sum() # напротив всех переменных указан 0, что значит - в данном датасете отсутствуют пропущенные значения\n",
        "df"
      ]
    },
    {
      "cell_type": "markdown",
      "metadata": {
        "id": "dTSw7VuLkBgT"
      },
      "source": [
        "#### **Описательные статистики**"
      ]
    },
    {
      "cell_type": "code",
      "execution_count": 34,
      "metadata": {
        "colab": {
          "base_uri": "https://localhost:8080/"
        },
        "id": "oSA8YR-Uk_5R",
        "outputId": "8dc66a40-1eeb-4d13-ccd1-6dd6042621a4"
      },
      "outputs": [
        {
          "name": "stdout",
          "output_type": "stream",
          "text": [
            "Описательные статистики для переменной 'anime_id':\n",
            "count     7305.000000\n",
            "mean     21612.962628\n",
            "std      16596.238183\n",
            "min         23.000000\n",
            "25%       5256.000000\n",
            "50%      20175.000000\n",
            "75%      36240.000000\n",
            "max      55647.000000\n",
            "Name: anime_id, dtype: float64\n",
            "\n",
            "Описательные статистики для переменной 'Name':\n",
            "count                 7305\n",
            "unique                7305\n",
            "top       Ring ni Kakero 1\n",
            "freq                     1\n",
            "Name: Name, dtype: object\n",
            "\n",
            "Описательные статистики для переменной 'English name':\n",
            "count        7305\n",
            "unique       3064\n",
            "top       UNKNOWN\n",
            "freq         4197\n",
            "Name: English name, dtype: object\n",
            "\n",
            "Описательные статистики для переменной 'Other name':\n",
            "count        7305\n",
            "unique       7092\n",
            "top       UNKNOWN\n",
            "freq           25\n",
            "Name: Other name, dtype: object\n",
            "\n",
            "Описательные статистики для переменной 'Score':\n",
            "count    7305.000000\n",
            "mean        6.039207\n",
            "std         0.762985\n",
            "min         3.750000\n",
            "25%         5.520000\n",
            "50%         6.060000\n",
            "75%         6.560000\n",
            "max         8.620000\n",
            "Name: Score, dtype: float64\n",
            "\n",
            "Описательные статистики для переменной 'Genres':\n",
            "count       7305\n",
            "unique       571\n",
            "top       Comedy\n",
            "freq         863\n",
            "Name: Genres, dtype: object\n",
            "\n",
            "Описательные статистики для переменной 'Synopsis':\n",
            "count                                         7305\n",
            "unique                                        6984\n",
            "top       No description available for this anime.\n",
            "freq                                           189\n",
            "Name: Synopsis, dtype: object\n",
            "\n",
            "Описательные статистики для переменной 'Type':\n",
            "count      7305\n",
            "unique        6\n",
            "top       Movie\n",
            "freq       1810\n",
            "Name: Type, dtype: object\n",
            "\n",
            "Описательные статистики для переменной 'Episodes':\n",
            "count    7305.000000\n",
            "mean        5.040383\n",
            "std         7.004234\n",
            "min         1.000000\n",
            "25%         1.000000\n",
            "50%         1.000000\n",
            "75%         6.000000\n",
            "max        28.000000\n",
            "Name: Episodes, dtype: float64\n",
            "\n",
            "Описательные статистики для переменной 'Aired':\n",
            "count     7305\n",
            "unique    5641\n",
            "top       2008\n",
            "freq        26\n",
            "Name: Aired, dtype: object\n",
            "\n",
            "Описательные статистики для переменной 'Premiered':\n",
            "count        7305\n",
            "unique        183\n",
            "top       UNKNOWN\n",
            "freq         6238\n",
            "Name: Premiered, dtype: object\n",
            "\n",
            "Описательные статистики для переменной 'Status':\n",
            "count                7305\n",
            "unique                  2\n",
            "top       Finished Airing\n",
            "freq                 7294\n",
            "Name: Status, dtype: object\n",
            "\n",
            "Описательные статистики для переменной 'Producers':\n",
            "count        7305\n",
            "unique       1479\n",
            "top       UNKNOWN\n",
            "freq         3805\n",
            "Name: Producers, dtype: object\n",
            "\n",
            "Описательные статистики для переменной 'Licensors':\n",
            "count        7305\n",
            "unique        125\n",
            "top       UNKNOWN\n",
            "freq         6036\n",
            "Name: Licensors, dtype: object\n",
            "\n",
            "Описательные статистики для переменной 'Studios':\n",
            "count        7305\n",
            "unique        875\n",
            "top       UNKNOWN\n",
            "freq         2062\n",
            "Name: Studios, dtype: object\n",
            "\n",
            "Описательные статистики для переменной 'Source':\n",
            "count         7305\n",
            "unique          17\n",
            "top       Original\n",
            "freq          2428\n",
            "Name: Source, dtype: object\n",
            "\n",
            "Описательные статистики для переменной 'Duration':\n",
            "count              7305\n",
            "unique              295\n",
            "top       24 min per ep\n",
            "freq                358\n",
            "Name: Duration, dtype: object\n",
            "\n",
            "Описательные статистики для переменной 'Rating':\n",
            "count                          7305\n",
            "unique                            7\n",
            "top       PG-13 - Teens 13 or older\n",
            "freq                           3270\n",
            "Name: Rating, dtype: object\n",
            "\n",
            "Описательные статистики для переменной 'Rank':\n",
            "count     7305.000000\n",
            "mean      8175.761533\n",
            "std       3008.457545\n",
            "min         73.000000\n",
            "25%       6021.000000\n",
            "50%       8589.000000\n",
            "75%      10717.000000\n",
            "max      12640.000000\n",
            "Name: Rank, dtype: float64\n",
            "\n",
            "Описательные статистики для переменной 'Popularity':\n",
            "count     7305.000000\n",
            "mean     10297.042026\n",
            "std       3499.753489\n",
            "min       4591.000000\n",
            "25%       7228.000000\n",
            "50%      10249.000000\n",
            "75%      13093.000000\n",
            "max      19191.000000\n",
            "Name: Popularity, dtype: float64\n",
            "\n",
            "Описательные статистики для переменной 'Favorites':\n",
            "count    7305.000000\n",
            "mean        8.042710\n",
            "std        16.885457\n",
            "min         0.000000\n",
            "25%         0.000000\n",
            "50%         2.000000\n",
            "75%         8.000000\n",
            "max       222.000000\n",
            "Name: Favorites, dtype: float64\n",
            "\n",
            "Описательные статистики для переменной 'Scored By':\n",
            "count     7305.000000\n",
            "mean      1663.235729\n",
            "std       2015.983105\n",
            "min        100.000000\n",
            "25%        257.000000\n",
            "50%        746.000000\n",
            "75%       2339.000000\n",
            "max      12696.000000\n",
            "Name: Scored By, dtype: float64\n",
            "\n",
            "Описательные статистики для переменной 'Members':\n",
            "count     7305.000000\n",
            "mean      4425.676112\n",
            "std       4815.414386\n",
            "min        180.000000\n",
            "25%        870.000000\n",
            "50%       2286.000000\n",
            "75%       6437.000000\n",
            "max      19894.000000\n",
            "Name: Members, dtype: float64\n",
            "\n",
            "Описательные статистики для переменной 'Image URL':\n",
            "count                                                  7305\n",
            "unique                                                 7301\n",
            "top       https://cdn.myanimelist.net/img/sp/icon/apple-...\n",
            "freq                                                      5\n",
            "Name: Image URL, dtype: object\n",
            "\n"
          ]
        }
      ],
      "source": [
        "for column in df.columns:\n",
        "    print(f\"Описательные статистики для переменной '{column}':\")\n",
        "    print(df[column].describe())\n",
        "    print()"
      ]
    },
    {
      "cell_type": "code",
      "execution_count": 35,
      "metadata": {
        "colab": {
          "base_uri": "https://localhost:8080/"
        },
        "id": "yF_Lzx_zY9cV",
        "outputId": "548d8eb2-9c8d-4ce7-d118-06ea9e03590f"
      },
      "outputs": [
        {
          "name": "stdout",
          "output_type": "stream",
          "text": [
            "Описательные статистики для числового признака 'Popularity':\n",
            "count     7305.000000\n",
            "mean     10297.042026\n",
            "std       3499.753489\n",
            "min       4591.000000\n",
            "25%       7228.000000\n",
            "50%      10249.000000\n",
            "75%      13093.000000\n",
            "max      19191.000000\n",
            "Name: Popularity, dtype: float64\n",
            "\n",
            "Интерпретация для\u001b[1m Popularity:\u001b[0;0m\n",
            "Среднее значение: 10297.042026009582\n",
            "Стандартное отклонение: 3499.7534886608064\n",
            "Дисперсия: 12248274.481393486\n",
            "Минимальное значение: 4591\n",
            "25-й перцентиль: 7228.0\n",
            "Медиана (50-й перцентиль): 10249.0\n",
            "75-й перцентиль: 13093.0\n",
            "Максимальное значение: 19191\n",
            "Размах: 14600\n",
            "Интерквартильный размах: 5865.0\n",
            "\n",
            "Описательные статистики для категориального признака Type:\n",
            "count      7305\n",
            "unique        6\n",
            "top       Movie\n",
            "freq       1810\n",
            "Name: Type, dtype: object\n",
            "\n",
            "Интерпретация для\u001b[1m Type:\u001b[0;0m\n",
            "Количество непустых значений по категориям:\n",
            "Type\n",
            "Movie      1810\n",
            "Special    1558\n",
            "ONA        1478\n",
            "OVA        1373\n",
            "TV         1085\n",
            "UNKNOWN       1\n",
            "Name: count, dtype: int64\n",
            "Количество непустых значений: 7305\n",
            "Уникальные значения: ['TV' 'Movie' 'OVA' 'Special' 'ONA' 'UNKNOWN']\n",
            "Количество уникальных значений: 6\n",
            "Самое частое значение (мода): Movie\n",
            "Частота самого частого значения: 1810\n"
          ]
        }
      ],
      "source": [
        "# Выбор одного числового и одного категориального признака\n",
        "# Расчет описательных статистик для числового признака\n",
        "print(\"Описательные статистики для числового признака 'Popularity':\")\n",
        "print(df['Popularity'].describe())\n",
        "\n",
        "# Интерпретация описательных статистик для числового признака\n",
        "# (для выделения жирным шрифтом, из-за объемности вывода, были использованы\n",
        "# значения ansi кодировки, найденые на просторах интернета '\\033[1m', '\\033[0;0m'\n",
        "print('\\nИнтерпретация для' + '\\033[1m' + ' Popularity:' + '\\033[0;0m')\n",
        "print(f\"Среднее значение: {df['Popularity'].mean()}\") # Среднее значение признака\n",
        "print(f\"Стандартное отклонение: {df['Popularity'].std()}\") # Отклонение от среднего значения\n",
        "print(f\"Дисперсия: {df['Popularity'].var()}\")  # Дисперсия для выборки, ddof=1\n",
        "print(f\"Минимальное значение: {df['Popularity'].min()}\") # Наименьшее значение\n",
        "print(f\"25-й перцентиль: {df['Popularity'].quantile(0.25)}\") # Значение ниже, которого находится 25% данных\n",
        "print(f\"Медиана (50-й перцентиль): {df['Popularity'].median()}\") # Срединное значение данных\n",
        "print(f\"75-й перцентиль: {df['Popularity'].quantile(0.75)}\") # Значение ниже, которого находится 75% данных\n",
        "print(f\"Максимальное значение: {df['Popularity'].max()}\") # Наибольшее значение\n",
        "print(f\"Размах: {df['Popularity'].max() - df['Popularity'].min()}\") # Разница между самым большим и самым маленьким значением переменной\n",
        "print(f\"Интерквартильный размах: {df['Popularity'].quantile(0.75) - df['Popularity'].quantile(0.25)}\") # IQR =Q3-Q1 интервал между первым и третьим квартилем\n",
        "\n",
        "# Расчет описательных статистик для категориального признака\n",
        "print(\"\\nОписательные статистики для категориального признака Type:\")\n",
        "print(df['Type'].describe())\n",
        "\n",
        "# Интерпретация описательных статистик для категориального признака\n",
        "print('\\nИнтерпретация для' + '\\033[1m' + ' Type:' + '\\033[0;0m')\n",
        "print(\"Количество непустых значений по категориям:\")\n",
        "print(df['Type'].value_counts())\n",
        "print(f\"Количество непустых значений: {df['Type'].value_counts().sum()}\") # Общее количество непустых значений\n",
        "print(f\"Уникальные значения: {df['Type'].unique()}\") # Уникальные категории\n",
        "print(f\"Количество уникальных значений: {len(df['Type'].unique())}\") # Количество различных, уникальных категорий\n",
        "print(f\"Самое частое значение (мода): {df['Type'].mode().values[0]}\") # Самое частое значение\n",
        "print(f\"Частота самого частого значения: {df['Type'].value_counts().max()}\") # Частота появления самого частого значения"
      ]
    },
    {
      "cell_type": "markdown",
      "metadata": {
        "id": "LkH5XSeAwTa4"
      },
      "source": [
        "### **Визуализация**"
      ]
    },
    {
      "cell_type": "code",
      "execution_count": 36,
      "metadata": {
        "colab": {
          "base_uri": "https://localhost:8080/",
          "height": 1000
        },
        "id": "Y_58Z6QLjR2D",
        "outputId": "130c90ff-962d-4374-9c6e-b435b2a5bd85"
      },
      "outputs": [
        {
          "name": "stderr",
          "output_type": "stream",
          "text": [
            "C:\\Users\\marya\\AppData\\Local\\Temp\\ipykernel_22620\\1882147966.py:5: FutureWarning: A value is trying to be set on a copy of a DataFrame or Series through chained assignment using an inplace method.\n",
            "The behavior will change in pandas 3.0. This inplace method will never work because the intermediate object on which we are setting values always behaves as a copy.\n",
            "\n",
            "For example, when doing 'df[col].method(value, inplace=True)', try using 'df.method({col: value}, inplace=True)' or df[col] = df[col].method(value) instead, to perform the operation inplace on the original object.\n",
            "\n",
            "\n",
            "  df['Rating'].fillna(df['Rating'].mode(), inplace=True)\n"
          ]
        },
        {
          "data": {
            "image/png": "[encoded data removed]",
            "text/plain": [
              "<Figure size 640x480 with 1 Axes>"
            ]
          },
          "metadata": {},
          "output_type": "display_data"
        },
        {
          "name": "stdout",
          "output_type": "stream",
          "text": [
            "\n"
          ]
        },
        {
          "data": {
            "image/png": "[encoded data removed]",
            "text/plain": [
              "<Figure size 640x480 with 1 Axes>"
            ]
          },
          "metadata": {},
          "output_type": "display_data"
        },
        {
          "name": "stdout",
          "output_type": "stream",
          "text": [
            "\n"
          ]
        },
        {
          "data": {
            "image/png": "[encoded data removed]",
            "text/plain": [
              "<Figure size 640x480 with 1 Axes>"
            ]
          },
          "metadata": {},
          "output_type": "display_data"
        },
        {
          "name": "stdout",
          "output_type": "stream",
          "text": [
            "\n"
          ]
        },
        {
          "data": {
            "image/png": "[encoded data removed]",
            "text/plain": [
              "<Figure size 640x480 with 1 Axes>"
            ]
          },
          "metadata": {},
          "output_type": "display_data"
        }
      ],
      "source": [
        "# Plot 1: Pie chart for Rating\n",
        "# Заменяем UNKNOWN на моду, так как признак категориальный\n",
        "# (здесь UNKNOWN всего один и закрывает одну из надписей в диаграмме)\n",
        "df['Rating'] = df['Rating'].apply(lambda x: np.nan if x == \"UNKNOWN\" else x)\n",
        "df['Rating'].fillna(df['Rating'].mode(), inplace=True)\n",
        "\n",
        "df.Rating.value_counts().plot(kind='pie')\n",
        "plt.title('Распределение уникальных значений признака Rating', fontsize=12, c='b')\n",
        "plt.show()\n",
        "# Вывод:\n",
        "# Большинство аниме имеют возрастное ограничение старше 13 лет. Это опровергает\n",
        "# миф о том, что аниме в основном ориентированы на детей (скорее на подростков и\n",
        "# старше). Значительное количество аниме имеет рейтинг R-17+, что указывает на\n",
        "# наличие контента для взрослой аудитории.\n",
        "print()\n",
        "\n",
        "# Plot 2: Bar chart for Source\n",
        "df['Source'].value_counts().plot(kind='bar', color='teal')\n",
        "plt.title('Распределение уникальных значений признака Source', fontsize=12, c='cadetblue')\n",
        "plt.xlabel('Оригинальный источник')\n",
        "plt.ylabel('Количество упоминаний')\n",
        "plt.show()\n",
        "# Вывод:\n",
        "# Оригинальные сюжеты и манга являются основными источниками для аниме. Это\n",
        "# подчеркивает важность манги в индустрии аниме. Радио является наименее\n",
        "# популярным источником, что ожидаемо, учитывая его ныне непопулярный формат.\n",
        "print()\n",
        "\n",
        "# Plot 3: Scatter plot for Members and Popularity\n",
        "plt.scatter(df['Members'], df['Popularity'], c='steelblue')\n",
        "plt.title('Зависимость между Members и Popularity', fontsize=12, c='deepskyblue')\n",
        "plt.xlabel('Количество участников, добавивших аниме в свои списки')\n",
        "plt.ylabel('Популярность')\n",
        "plt.show()\n",
        "# Вывод:\n",
        "# Наблюдается отрицательная линейная зависимость между популярностью и\n",
        "# количеством участников, добавивших аниме в свои списки. Это может указывать на\n",
        "# то, что старые и классические аниме имеют больше участников, но менее\n",
        "# популярны в современных трендах. Нелинейная зависимость требует дополнительных\n",
        "# анализов, но интересно, что точки четко выстроены вдоль дугообразной прямой.\n",
        "print()\n",
        "\n",
        "# Plot 4: Histogram for Score\n",
        "plt.hist(df['Score'], color='y')\n",
        "plt.title('Гистограмма распределения признака Score', fontsize=12, c='peru')\n",
        "plt.xlabel('Средний рейтинг аниме')\n",
        "plt.show()\n",
        "# Вывод:\n",
        "# Наиболее частый средний рейтинг для аниме - около 6, что указывает на средний\n",
        "# уровень качества по мнению зрителей. Существует также значительное количество\n",
        "# аниме с более высокими рейтингами, что свидетельствует о разнообразии в\n",
        "# качестве и восприятии аниме. При этом средний рейтинг выше 8 крайне редок."
      ]
    },
    {
      "cell_type": "markdown",
      "metadata": {
        "id": "m24KoBAkzDYA"
      },
      "source": [
        "### **Корреляция**"
      ]
    },
    {
      "cell_type": "code",
      "execution_count": 37,
      "metadata": {
        "colab": {
          "base_uri": "https://localhost:8080/",
          "height": 300
        },
        "id": "xKUWzBENX5TK",
        "outputId": "90f80152-1bf0-49d6-bd4d-a78e7f37c1e1"
      },
      "outputs": [
        {
          "data": {
            "text/html": [
              "<div>\n",
              "<style scoped>\n",
              "    .dataframe tbody tr th:only-of-type {\n",
              "        vertical-align: middle;\n",
              "    }\n",
              "\n",
              "    .dataframe tbody tr th {\n",
              "        vertical-align: top;\n",
              "    }\n",
              "\n",
              "    .dataframe thead th {\n",
              "        text-align: right;\n",
              "    }\n",
              "</style>\n",
              "<table border=\"1\" class=\"dataframe\">\n",
              "  <thead>\n",
              "    <tr style=\"text-align: right;\">\n",
              "      <th></th>\n",
              "      <th>anime_id</th>\n",
              "      <th>Score</th>\n",
              "      <th>Episodes</th>\n",
              "      <th>Rank</th>\n",
              "      <th>Popularity</th>\n",
              "      <th>Favorites</th>\n",
              "      <th>Scored By</th>\n",
              "      <th>Members</th>\n",
              "    </tr>\n",
              "  </thead>\n",
              "  <tbody>\n",
              "    <tr>\n",
              "      <th>anime_id</th>\n",
              "      <td>1.000000</td>\n",
              "      <td>-0.118453</td>\n",
              "      <td>-0.031062</td>\n",
              "      <td>0.125160</td>\n",
              "      <td>0.267308</td>\n",
              "      <td>0.019448</td>\n",
              "      <td>-0.215199</td>\n",
              "      <td>-0.155820</td>\n",
              "    </tr>\n",
              "    <tr>\n",
              "      <th>Score</th>\n",
              "      <td>-0.118453</td>\n",
              "      <td>1.000000</td>\n",
              "      <td>0.191953</td>\n",
              "      <td>-0.977186</td>\n",
              "      <td>-0.582398</td>\n",
              "      <td>0.425972</td>\n",
              "      <td>0.481402</td>\n",
              "      <td>0.512889</td>\n",
              "    </tr>\n",
              "    <tr>\n",
              "      <th>Episodes</th>\n",
              "      <td>-0.031062</td>\n",
              "      <td>0.191953</td>\n",
              "      <td>1.000000</td>\n",
              "      <td>-0.181349</td>\n",
              "      <td>-0.161917</td>\n",
              "      <td>0.236644</td>\n",
              "      <td>0.057813</td>\n",
              "      <td>0.129845</td>\n",
              "    </tr>\n",
              "    <tr>\n",
              "      <th>Rank</th>\n",
              "      <td>0.125160</td>\n",
              "      <td>-0.977186</td>\n",
              "      <td>-0.181349</td>\n",
              "      <td>1.000000</td>\n",
              "      <td>0.609762</td>\n",
              "      <td>-0.454364</td>\n",
              "      <td>-0.517223</td>\n",
              "      <td>-0.543173</td>\n",
              "    </tr>\n",
              "    <tr>\n",
              "      <th>Popularity</th>\n",
              "      <td>0.267308</td>\n",
              "      <td>-0.582398</td>\n",
              "      <td>-0.161917</td>\n",
              "      <td>0.609762</td>\n",
              "      <td>1.000000</td>\n",
              "      <td>-0.488371</td>\n",
              "      <td>-0.797183</td>\n",
              "      <td>-0.860004</td>\n",
              "    </tr>\n",
              "    <tr>\n",
              "      <th>Favorites</th>\n",
              "      <td>0.019448</td>\n",
              "      <td>0.425972</td>\n",
              "      <td>0.236644</td>\n",
              "      <td>-0.454364</td>\n",
              "      <td>-0.488371</td>\n",
              "      <td>1.000000</td>\n",
              "      <td>0.497667</td>\n",
              "      <td>0.587220</td>\n",
              "    </tr>\n",
              "    <tr>\n",
              "      <th>Scored By</th>\n",
              "      <td>-0.215199</td>\n",
              "      <td>0.481402</td>\n",
              "      <td>0.057813</td>\n",
              "      <td>-0.517223</td>\n",
              "      <td>-0.797183</td>\n",
              "      <td>0.497667</td>\n",
              "      <td>1.000000</td>\n",
              "      <td>0.939686</td>\n",
              "    </tr>\n",
              "    <tr>\n",
              "      <th>Members</th>\n",
              "      <td>-0.155820</td>\n",
              "      <td>0.512889</td>\n",
              "      <td>0.129845</td>\n",
              "      <td>-0.543173</td>\n",
              "      <td>-0.860004</td>\n",
              "      <td>0.587220</td>\n",
              "      <td>0.939686</td>\n",
              "      <td>1.000000</td>\n",
              "    </tr>\n",
              "  </tbody>\n",
              "</table>\n",
              "</div>"
            ],
            "text/plain": [
              "            anime_id     Score  Episodes      Rank  Popularity  Favorites  \\\n",
              "anime_id    1.000000 -0.118453 -0.031062  0.125160    0.267308   0.019448   \n",
              "Score      -0.118453  1.000000  0.191953 -0.977186   -0.582398   0.425972   \n",
              "Episodes   -0.031062  0.191953  1.000000 -0.181349   -0.161917   0.236644   \n",
              "Rank        0.125160 -0.977186 -0.181349  1.000000    0.609762  -0.454364   \n",
              "Popularity  0.267308 -0.582398 -0.161917  0.609762    1.000000  -0.488371   \n",
              "Favorites   0.019448  0.425972  0.236644 -0.454364   -0.488371   1.000000   \n",
              "Scored By  -0.215199  0.481402  0.057813 -0.517223   -0.797183   0.497667   \n",
              "Members    -0.155820  0.512889  0.129845 -0.543173   -0.860004   0.587220   \n",
              "\n",
              "            Scored By   Members  \n",
              "anime_id    -0.215199 -0.155820  \n",
              "Score        0.481402  0.512889  \n",
              "Episodes     0.057813  0.129845  \n",
              "Rank        -0.517223 -0.543173  \n",
              "Popularity  -0.797183 -0.860004  \n",
              "Favorites    0.497667  0.587220  \n",
              "Scored By    1.000000  0.939686  \n",
              "Members      0.939686  1.000000  "
            ]
          },
          "execution_count": 37,
          "metadata": {},
          "output_type": "execute_result"
        }
      ],
      "source": [
        "df.select_dtypes(include = 'number').corr() # построили корреляционную матрицу только по количественным переменым"
      ]
    },
    {
      "cell_type": "markdown",
      "metadata": {
        "id": "ITJSDzMxYCf5"
      },
      "source": [
        "Корреляция описывает, насколько сильно значения одной переменной изменяются в зависимости от изменений другой переменной.\n",
        "Чем ближе коэффициент корреляции к 1-е, тем сильнее линейная взаимосвязь между переменными.\n",
        "\n",
        "В нашем случае, была определена различная сила корреляционной связи:\n",
        "\n",
        "Коэффициенты корреляции между переменными anime_id и Episodes (отрицательный); anime_id и Favorites (положительный); Episodes и Scored By (положительный) - обладают очень слабой линейной связью\n",
        "\n",
        "Коэффициенты корреляции между переменными anime_id и Score (отрицательный); anime_id и Rank (положительный); anime_id и Popularity (положительный); anime_id и Scored By (отрицательный); anime_id и Members (отрицательный); Score и Episodes (положительный); Episodes и Rank (отрицательный); Episodes и Popularity (отрицательный); Episodes и Favorites (положительный); Episodes и Members (положительный) - обладают слабой линейной связью\n",
        "\n",
        "Коэффициенты корреляции между переменными Score и Favorites (положительный); Score и Scored By (положительный); Rank и Favorites (отрицательный); Popularity и Favorites (отрицательный); Favorites и Scored By (положительный) - обладают умеренной линейной связью\n",
        "\n",
        "Коэффициенты корреляции между переменными Score и Popularity (отрицательный); Score и Members (положительный); Rank и Popularity (положительный); Rank и Scored By (отрицательный); Rank и Members (отрицательный); Favorites и Members (положительный) - обладают заметной линейной связью\n",
        "\n",
        "Коэффициенты корреляции между переменными Popularity и Scored By (отрицательный); Popularity и Members (отрицательный) - обладают сильной линейной связью\n",
        "\n",
        "Коэффициенты корреляции между переменными Score и Rank (отрицательный); Scored By и Members (положительный) - обладают очень сильной линейной связью"
      ]
    },
    {
      "cell_type": "markdown",
      "metadata": {
        "id": "vS4vtl4_zW4y"
      },
      "source": [
        "### **Тестирование гипотез**"
      ]
    },
    {
      "cell_type": "markdown",
      "metadata": {
        "id": "GA2_k_BfzeXF"
      },
      "source": [
        "#### z-тест на математическое ожидание"
      ]
    },
    {
      "cell_type": "code",
      "execution_count": 38,
      "metadata": {
        "colab": {
          "base_uri": "https://localhost:8080/"
        },
        "id": "TfnRX-aaZ3DN",
        "outputId": "b2a0a799-59ee-4651-d150-246ef1fa9d64"
      },
      "outputs": [
        {
          "name": "stdout",
          "output_type": "stream",
          "text": [
            "z-статистика: -84.92484884360718, p-value: 0.0\n",
            "Отвергаем нулевую гипотезу (H0). Средняя продолжительность аниме не равна 12 сериям.\n",
            "\n",
            "Ручной расчет z-статистики: -84.92484884360718\n"
          ]
        }
      ],
      "source": [
        "# 1\n",
        "from statsmodels.stats.weightstats import ztest as ztest\n",
        "# Убираем значение 'UNKNOWN', заменяя его на моду, так как переменная дискретная\n",
        "df['Episodes'] = df['Episodes'].apply(lambda x: df['Episodes'].mode() if x == \"UNKNOWN\" else x)\n",
        "\n",
        "# Формулировка гипотезы:\n",
        "# H0: Средняя продолжительность аниме равна 12 сериям (M = 12)\n",
        "# H1: Средняя продолжительность аниме не равна 12 сериям (M != 12)\n",
        "# Основания для гипотезы: Продолжительность сериала[аниме] обычно кратна сезону, состоящему из 12 серий. (Wikipedia)\n",
        "\n",
        "# Проведение z-теста\n",
        "result = ztest(df['Episodes'], value=12.0, alternative='two-sided')\n",
        "\n",
        "# Уровень значимости\n",
        "alpha = 0.05\n",
        "\n",
        "# Результаты\n",
        "z_stat, p_value = result[0], result[1]\n",
        "print(f'z-статистика: {z_stat}, p-value: {p_value}')\n",
        "\n",
        "# Проверка гипотезы\n",
        "if p_value > alpha:\n",
        "    print(\"Не отвергаем нулевую гипотезу (H0). Средняя продолжительность аниме равна 12 сериям.\")\n",
        "else:\n",
        "    print(\"Отвергаем нулевую гипотезу (H0). Средняя продолжительность аниме не равна 12 сериям.\")\n",
        "\n",
        "# Ручной расчет z-статистики для проверки\n",
        "mean_episodes = df['Episodes'].mean()\n",
        "std_episodes = df['Episodes'].std(ddof=1)\n",
        "n = df['Episodes'].shape[0]\n",
        "z_stat_manual = (mean_episodes - 12) / (std_episodes / np.sqrt(n))\n",
        "print(f'\\nРучной расчет z-статистики: {z_stat_manual}')"
      ]
    },
    {
      "cell_type": "markdown",
      "metadata": {
        "id": "ddakmB5aznNu"
      },
      "source": [
        "#### t-тест на математическое ожидание"
      ]
    },
    {
      "cell_type": "code",
      "execution_count": 39,
      "metadata": {
        "colab": {
          "base_uri": "https://localhost:8080/"
        },
        "id": "rUkFdYz6Z4Hb",
        "outputId": "21141e02-0d33-493a-a0c7-0a1aaba61707"
      },
      "outputs": [
        {
          "name": "stdout",
          "output_type": "stream",
          "text": [
            "t-statistic: -84.9248488436072, p-value: 0.0\n",
            "Отвергаем нулевую гипотезу (H0). Средняя продолжительность аниме не равна 12 сериям.\n"
          ]
        }
      ],
      "source": [
        "# 2\n",
        "# Обработка неизвестных значений столбца 'Episodes' была в предыдущем подпункте\n",
        "\n",
        "# Формулировка гипотезы:\n",
        "# H0: Средняя продолжительность аниме равна 12 сериям (M = 12)\n",
        "# H1: Средняя продолжительность аниме не равна 12 сериям (M != 12)\n",
        "\n",
        "# Проведение t-теста\n",
        "result = stats.ttest_1samp(a=df['Episodes'], popmean=12.0, alternative='two-sided')\n",
        "\n",
        "# Уровень значимости\n",
        "alpha = 0.05\n",
        "\n",
        "# Результаты\n",
        "t_stat, p_value = result.statistic, result.pvalue\n",
        "print(f't-statistic: {t_stat}, p-value: {p_value}')\n",
        "\n",
        "# Проверка гипотезы\n",
        "if p_value > alpha:\n",
        "    print(\"Не отвергаем нулевую гипотезу (H0). Средняя продолжительность аниме равна 12 сериям.\")\n",
        "else:\n",
        "    print(\"Отвергаем нулевую гипотезу (H0). Средняя продолжительность аниме не равна 12 сериям.\")"
      ]
    },
    {
      "cell_type": "markdown",
      "metadata": {
        "id": "7jfNq4mIzsQD"
      },
      "source": [
        "#### тест на равенство математических ожиданий"
      ]
    },
    {
      "cell_type": "code",
      "execution_count": 40,
      "metadata": {
        "colab": {
          "base_uri": "https://localhost:8080/"
        },
        "id": "Um44c9MuclNl",
        "outputId": "b8ddf661-a3c2-4c13-8922-93d16a0f4f4d"
      },
      "outputs": [
        {
          "name": "stdout",
          "output_type": "stream",
          "text": [
            "t-statistic: 1.9611215615924154, p-value: 0.049902787937052405\n",
            "Отвергаем нулевую гипотезу (H0). Средние рейтинги аниме, которые закончились и которые продолжают сниматься, различаются.\n"
          ]
        }
      ],
      "source": [
        "# 3\n",
        "# Обработка неизвестных значений в столбце 'Rank', замена на моду, так как переменная дискретная\n",
        "df['Rank'] = df['Rank'].apply(lambda x: df['Rank'].mode() if x == \"UNKNOWN\" else x)\n",
        "\n",
        "# Формулировка гипотезы:\n",
        "# H0: Средние рейтинги аниме, которые закончились и которые продолжают сниматься, одинаковы.\n",
        "# H1: Средние рейтинги аниме, которые закончились и которые продолжают сниматься, различаются.\n",
        "\n",
        "# Разделение данных на две группы: Finished Airing и Currently Airing\n",
        "fa = df[df['Status'] == \"Finished Airing\"]['Rank']\n",
        "ca = df[df['Status'] == \"Currently Airing\"]['Rank']\n",
        "\n",
        "# Проведение t-теста для независимых выборок\n",
        "result = stats.ttest_ind(fa, ca)\n",
        "\n",
        "# Уровень значимости\n",
        "alpha = 0.05\n",
        "\n",
        "# Результаты\n",
        "t_stat, p_value = result.statistic, result.pvalue\n",
        "print(f't-statistic: {t_stat}, p-value: {p_value}')\n",
        "\n",
        "# Проверка гипотезы\n",
        "if p_value > alpha:\n",
        "    print(\"Не отвергаем нулевую гипотезу (H0). Средние рейтинги аниме, которые закончились и которые продолжают сниматься, одинаковы.\")\n",
        "else:\n",
        "    print(\"Отвергаем нулевую гипотезу (H0). Средние рейтинги аниме, которые закончились и которые продолжают сниматься, различаются.\")"
      ]
    },
    {
      "cell_type": "markdown",
      "metadata": {
        "id": "g5YAFPYuz0Rx"
      },
      "source": [
        "#### критерий независимости хи-квадрат\n",
        "\n",
        "\n"
      ]
    },
    {
      "cell_type": "code",
      "execution_count": 41,
      "metadata": {
        "colab": {
          "base_uri": "https://localhost:8080/"
        },
        "id": "kcz_aRf6c4Oi",
        "outputId": "741fbde8-67f7-43ea-ce75-892f36583c51"
      },
      "outputs": [
        {
          "name": "stdout",
          "output_type": "stream",
          "text": [
            "Chi2ContingencyResult(statistic=10.918174485937504, pvalue=0.05302669693929701, dof=5, expected_freq=array([[2.93072456e+00, 2.35206928e+03],\n",
            "       [8.17616150e-01, 6.56182384e+02],\n",
            "       [4.06941372e+00, 3.26593059e+03],\n",
            "       [5.27654867e-01, 4.23472345e+02],\n",
            "       [6.52101770e-01, 5.23347898e+02],\n",
            "       [2.48893805e-03, 1.99751106e+00]]))\n",
            "Не отвергаем нулевую гипотезу (H0). Нет зависимости между рейтингом и статусом аниме.\n"
          ]
        }
      ],
      "source": [
        "# 4\n",
        "# Создаем таблицу сопряженности\n",
        "contingency_table = pd.crosstab(df['Rating'], df['Status'])\n",
        "\n",
        "# Проведение критерия хи-квадрат\n",
        "result = stats.chi2_contingency(contingency_table)\n",
        "print(result)\n",
        "\n",
        "# Уровень значимости\n",
        "alpha = 0.05\n",
        "\n",
        "# Проверка гипотезы\n",
        "if result.pvalue > alpha:\n",
        "    print(\"Не отвергаем нулевую гипотезу (H0). Нет зависимости между рейтингом и статусом аниме.\")\n",
        "else:\n",
        "    print(\"Отвергаем нулевую гипотезу (H0). Есть зависимость между рейтингом и статусом аниме.\")"
      ]
    },
    {
      "cell_type": "markdown",
      "metadata": {
        "id": "27xy4baC0CXw"
      },
      "source": [
        "### **Задача регрессии**"
      ]
    },
    {
      "cell_type": "code",
      "execution_count": 42,
      "metadata": {
        "colab": {
          "base_uri": "https://localhost:8080/"
        },
        "id": "Op_MZ9mufm9m",
        "outputId": "5a2a5df9-75f3-4984-9740-93c4da9059ed"
      },
      "outputs": [
        {
          "name": "stdout",
          "output_type": "stream",
          "text": [
            "MSE train: 5330913.619924649\n",
            "MSE test: 5509420.323158168\n",
            "MAE train: 1846.1934536965614\n",
            "MAE test: 1884.071070233071\n",
            "R2 train: 0.40686707121586774\n",
            "R2 test: 0.40006360271963626\n"
          ]
        }
      ],
      "source": [
        "from sklearn.model_selection import train_test_split\n",
        "\n",
        "# Замена \"UNKNOWN\" в столбце Rank на его моду была в третьей гипотезе предыдущего пункта\n",
        "\n",
        "# Определение признаков и целевой переменной\n",
        "X = df[['Popularity', 'Favorites', 'Members']]  # Признаки\n",
        "y = df['Rank']  # Целевая переменная\n",
        "\n",
        "# Разделение данных на обучающую и тестовую выборки вручную\n",
        "np.random.seed(42)  # Фиксируем seed для воспроизводимости\n",
        "X_train, X_test, Y_train, Y_test = train_test_split(X, y, test_size = 0.3)\n",
        "X_train.shape #(5113, 3)\n",
        "X_test.shape #(2192, 3)\n",
        "\n",
        "# Построение модели линейной регрессии\n",
        "from sklearn. linear_model import LinearRegression\n",
        "lr = LinearRegression()\n",
        "lr.fit(X_train, Y_train)\n",
        "pred_train = lr.predict(X_train)\n",
        "pred_test = lr.predict(X_test)\n",
        "\n",
        "# Оценка качества и вывод результатов оценки\n",
        "from sklearn.metrics import mean_squared_error, mean_absolute_error, r2_score\n",
        "print(\"MSE train:\", mean_squared_error(Y_train, pred_train))  # Среднеквадратичная ошибка\n",
        "print(\"MSE test:\", mean_squared_error(Y_test, pred_test))\n",
        "print(\"MAE train:\", mean_absolute_error(Y_train, pred_train)) # Cреднеабсолютная ошибка\n",
        "print(\"MAE test:\", mean_absolute_error(Y_test, pred_test))\n",
        "print(\"R2 train:\", r2_score(Y_train, pred_train))  # Коэффициент детерминации\n",
        "print(\"R2 test:\", r2_score(Y_test, pred_test))\n"
      ]
    },
    {
      "cell_type": "markdown",
      "metadata": {
        "id": "2SKmWQPc0Wn8"
      },
      "source": [
        "**Выводы**"
      ]
    },
    {
      "cell_type": "markdown",
      "metadata": {
        "id": "r6JmRQpWB1y_"
      },
      "source": [
        "Для оценки качества моделибыли взяты метрики: MSE (Среднеквадратичная ошибка), MAE (Среднеабсолютная ошибка), R2 (Коэффициент детерминации).\n",
        "\n",
        "MSE train = 5330913.62, MSE test = 5509420.32. Эти значения MSE достаточно высоки, что указывает на значительные ошибки в предсказаниях как на обучающей, так и на тестовой выборках.\n",
        "\n",
        "MAE train = 1846.19, MAE test = 1884.07. Значения MAE более информативны для интерпретации, так как они находятся в тех же единицах, что и целевая переменная (Rank). Средняя абсолютная ошибка на тестовой выборке составляет примерно 1884.07, что также указывает на значительные ошибки, но более интерпретируемые.\n",
        "\n",
        "R2 train = 0.4069, R2 test = 0.4001. Значения R2 показывают, что модель объясняет примерно 41% дисперсии целевой переменной Rank на обучающей выборке и 40% на тестовой выборке. Это указывает на умеренное качество модели, но есть потенциал для улучшения.\n",
        "\n",
        "Значения MSE и MAE на обучающей и тестовой выборках достаточно близки друг к другу, что указывает на отсутствие переобучения модели. Это хороший знак, так как модель демонстрирует стабильные результаты на обеих выборках. Высокие значения MSE и MAE указывают на значительные ошибки предсказаний. Это может быть следствием того, что признаки Popularity, Favorites и Members не полностью объясняют вариацию целевой переменной Rank. Значение R2 около 0.4001 - 0.4069 показывает, что модель объясняет менее половины дисперсии целевой переменной. Это означает, что большая часть вариации не объясняется моделью и что существуют другие факторы, которые влияют на Rank, но не включены в модель.\n"
      ]
    }
  ],
  "metadata": {
    "colab": {
      "provenance": []
    },
    "kernelspec": {
      "display_name": "Python 3",
      "name": "python3"
    },
    "language_info": {
      "codemirror_mode": {
        "name": "ipython",
        "version": 3
      },
      "file_extension": ".py",
      "mimetype": "text/x-python",
      "name": "python",
      "nbconvert_exporter": "python",
      "pygments_lexer": "ipython3",
      "version": "3.10.11"
    }
  },
  "nbformat": 4,
  "nbformat_minor": 0
}
